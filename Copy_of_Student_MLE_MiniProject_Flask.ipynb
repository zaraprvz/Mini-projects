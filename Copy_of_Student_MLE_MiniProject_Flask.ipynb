{
  "cells": [
    {
      "cell_type": "markdown",
      "metadata": {
        "id": "view-in-github",
        "colab_type": "text"
      },
      "source": [
        "<a href=\"https://colab.research.google.com/github/zaraprvz/Mini-projects/blob/main/Copy_of_Student_MLE_MiniProject_Flask.ipynb\" target=\"_parent\"><img src=\"https://colab.research.google.com/assets/colab-badge.svg\" alt=\"Open In Colab\"/></a>"
      ]
    },
    {
      "cell_type": "markdown",
      "source": [
        "# Mini Project: Flask for ML Tasks\n",
        "\n",
        "Flask is a micro web framework for Python that simplifies the process of building web applications. It's designed to be lightweight, flexible, and easy to use, making it a popular choice for developing web applications, APIs, and microservices. Flask doesn't impose a lot of constraints on how you structure your application, giving you the freedom to design your application as needed.\n",
        "\n",
        "Here's how Flask works and how it can be used for machine learning engineering:\n",
        "\n",
        "**1. Web Application Basics:**\n",
        "Flask allows you to define routes (URLs) and associate them with Python functions. When a user visits a specific URL, the associated function is executed, and you can return HTML, JSON, images, or any other type of data as a response. This makes it great for building dynamic and interactive web applications.\n",
        "\n",
        "**2. Integration with Machine Learning:**\n",
        "Flask can be incredibly useful in the context of machine learning engineering for a variety of purposes:\n",
        "\n",
        "- **Model Deployment:** Flask can be used to deploy machine learning models as APIs. Once your model is trained, you can create a Flask app that exposes the model through a web API. This enables other applications, platforms, or services to easily interact with and use your trained models for making predictions.\n",
        "\n",
        "- **Data Visualization:** You can use Flask to create interactive visualizations of data and model predictions. This is particularly useful when you want to provide users with a graphical representation of your machine learning insights.\n",
        "\n",
        "- **Custom Preprocessing:** If your machine learning model requires preprocessing steps before making predictions, Flask can be used to create an interface where users can input data, and your app preprocesses the data and feeds it to the model for prediction.\n",
        "\n",
        "- **User Interface:** Flask can help you create user-friendly interfaces for your machine learning models, allowing non-technical users to interact with and utilize your models without writing code.\n",
        "\n",
        "- **A/B Testing and Experimentation:** Flask apps can be used to deploy different versions of your models for A/B testing or experimentation, allowing you to compare the performance of different models and make data-driven decisions.\n",
        "\n",
        "**3. Real-world Example:**\n",
        "Imagine you've trained a sentiment analysis model, and you want to allow users to input text and get predictions about the sentiment of the text. You can create a Flask app that provides a simple web interface where users can type in their text, and the app sends the text to your sentiment analysis model and displays the result."
      ],
      "metadata": {
        "id": "yPbWViOfnJFg"
      }
    },
    {
      "cell_type": "markdown",
      "source": [
        "A typical Flask application follows a specific structure that helps organize your code, templates, static files, and other resources. This structure is designed to keep your codebase organized and maintainable as your application grows. The layout typically consists of several key components:\n",
        "\n",
        "1. **Main Application File (`app.py` or similar):**\n",
        "   This is the entry point of your Flask application. It contains the core configuration, route definitions, and application setup. You define the routes (URLs) your application will respond to, and associate each route with a Python function that handles the logic for that route.\n",
        "\n",
        "2. **Templates Folder (`templates/`):**\n",
        "   This folder contains your HTML templates. Flask uses a templating engine (Jinja2 by default) to generate dynamic HTML content. Templates allow you to separate the presentation (HTML) from the logic (Python) in your application, making your code more organized and maintainable. Templates can also include placeholders for dynamic data that Flask fills in when rendering the template.\n",
        "\n",
        "3. **Static Folder (`static/`):**\n",
        "   The `static` folder holds static assets like CSS files, JavaScript files, images, fonts, and other resources that are directly served to the user's browser. These assets are typically used to style and enhance the appearance of your web application. By separating static assets from dynamic content, you can optimize the performance of your application.\n",
        "\n",
        "4. **Other Application Files and Modules:**\n",
        "   Depending on the complexity of your application, you might create additional modules or packages to handle different aspects of your application, such as database interactions, machine learning model deployment, authentication, and more. These modules help keep your codebase modular and maintainable.\n",
        "\n",
        "Here's a simplified example of the structure of a Flask application:\n",
        "\n",
        "```\n",
        "my_flask_app/\n",
        "├── app.py\n",
        "├── templates/\n",
        "│   ├── index.html\n",
        "│   ├── result.html\n",
        "├── static/\n",
        "│   ├── styles.css\n",
        "│   ├── script.js\n",
        "└── other_modules/\n",
        "    ├── database.py\n",
        "    ├── ml_model.py\n",
        "```\n",
        "\n",
        "In this example:\n",
        "\n",
        "- `app.py` is the main application file where you define routes, configure the app, and handle requests.\n",
        "- The `templates` folder contains HTML templates that define the structure of your web pages.\n",
        "- The `static` folder holds static assets like CSS and JavaScript files.\n",
        "- The `other_modules` folder might contain additional modules or packages for handling specific tasks, like interacting with a database (`database.py`) or deploying a machine learning model (`ml_model.py`).\n",
        "\n",
        "The separation of static files and templates helps you maintain clean and organized code. Static assets are served directly to users, while templates are used to dynamically generate HTML pages. This structure facilitates collaboration among team members and makes it easier to understand, maintain, and extend your Flask application."
      ],
      "metadata": {
        "id": "yHTfSly5qyjK"
      }
    },
    {
      "cell_type": "markdown",
      "source": [
        "In this mini-project you'll be introduced to Flask by developing an application where your render a bar plot based on user-input data through an API. Note, colab is not a natural place for API development. Colab is mainly used here to be consistent with other mini-projects.\n",
        "\n",
        "As such, we'll need to leverage a tool called [ngrok](https://ngrok.com/). Ngrok is a tool that allows you to create secure tunnels from a public endpoint to a locally running web service or application. It enables you to expose your local server to the internet, making it accessible to others even if it's running on your own computer behind firewalls or NAT (Network Address Translation) devices. In this mini-project, we'll use ngrok to expose your colab instance to the wider internet. Again, you'd never use something like this for production.\n",
        "\n",
        "Go ahead and sign up for an ngrok account [here](https://ngrok.com/). It's free and useful for a wide variety of tasks."
      ],
      "metadata": {
        "id": "ckZ-l9RTr_Ef"
      }
    },
    {
      "cell_type": "code",
      "execution_count": null,
      "metadata": {
        "id": "Bc5p2nJfsxer",
        "outputId": "f447fd8d-d287-4ac5-a75e-3472f99d86e9",
        "colab": {
          "base_uri": "https://localhost:8080/"
        }
      },
      "outputs": [
        {
          "output_type": "stream",
          "name": "stdout",
          "text": [
            "Requirement already satisfied: pyngrok in /usr/local/lib/python3.10/dist-packages (7.1.6)\n",
            "Requirement already satisfied: PyYAML>=5.1 in /usr/local/lib/python3.10/dist-packages (from pyngrok) (6.0.1)\n",
            "Requirement already satisfied: flask in /usr/local/lib/python3.10/dist-packages (2.2.5)\n",
            "Requirement already satisfied: Werkzeug>=2.2.2 in /usr/local/lib/python3.10/dist-packages (from flask) (3.0.3)\n",
            "Requirement already satisfied: Jinja2>=3.0 in /usr/local/lib/python3.10/dist-packages (from flask) (3.1.4)\n",
            "Requirement already satisfied: itsdangerous>=2.0 in /usr/local/lib/python3.10/dist-packages (from flask) (2.2.0)\n",
            "Requirement already satisfied: click>=8.0 in /usr/local/lib/python3.10/dist-packages (from flask) (8.1.7)\n",
            "Requirement already satisfied: MarkupSafe>=2.0 in /usr/local/lib/python3.10/dist-packages (from Jinja2>=3.0->flask) (2.1.5)\n",
            "/bin/bash: line 1: choco: command not found\n"
          ]
        }
      ],
      "source": [
        "!pip install pyngrok\n",
        "!pip install flask\n",
        "!choco install ngrok"
      ]
    },
    {
      "cell_type": "markdown",
      "source": [
        "Execute the cell below to authenticate to ngrok. Paste your authentication token after copying it from [https://dashboard.ngrok.com/auth](https://dashboard.ngrok.com/auth). This assumes you've already created an ngrok account.  "
      ],
      "metadata": {
        "id": "harGkq13JK9j"
      }
    },
    {
      "cell_type": "code",
      "execution_count": null,
      "metadata": {
        "id": "t_CERy7auqz3",
        "outputId": "fccba50a-06dc-409c-a557-1e52f60dda19",
        "colab": {
          "base_uri": "https://localhost:8080/"
        }
      },
      "outputs": [
        {
          "name": "stdout",
          "output_type": "stream",
          "text": [
            "Enter your authtoken, which can be copied from https://dashboard.ngrok.com/auth\n",
            "··········\n"
          ]
        }
      ],
      "source": [
        "import getpass\n",
        "from pyngrok import ngrok, conf\n",
        "\n",
        "print(\"Enter your authtoken, which can be copied from https://dashboard.ngrok.com/auth\")\n",
        "conf.get_default().auth_token = getpass.getpass()"
      ]
    },
    {
      "cell_type": "code",
      "source": [
        "!ngrok http http://localhost:8080"
      ],
      "metadata": {
        "colab": {
          "base_uri": "https://localhost:8080/"
        },
        "id": "I9yHXV1le60a",
        "outputId": "80176d6e-2ea8-4465-fe7f-94751fc84388"
      },
      "execution_count": null,
      "outputs": [
        {
          "output_type": "stream",
          "name": "stdout",
          "text": [
            "http - start an HTTP tunnel\n",
            "\n",
            "USAGE:\n",
            "  ngrok http [address:port | port] [flags]\n",
            "\n",
            "AUTHOR:\n",
            "  ngrok - <support@ngrok.com>\n",
            "\n",
            "COMMANDS: \n",
            "  config          update or migrate ngrok's configuration file\n",
            "  http            start an HTTP tunnel\n",
            "  tcp             start a TCP tunnel\n",
            "  tunnel          start a tunnel for use with a tunnel-group backend\n",
            "\n",
            "EXAMPLES: \n",
            "  ngrok http 80                                                 # secure public URL for port 80 web server\n",
            "  ngrok http --domain baz.ngrok.dev 8080                        # port 8080 available at baz.ngrok.dev\n",
            "  ngrok tcp 22                                                  # tunnel arbitrary TCP traffic to port 22\n",
            "  ngrok http 80 --oauth=google --oauth-allow-email=foo@foo.com  # secure your app with oauth\n",
            "\n",
            "Paid Features: \n",
            "  ngrok http 80 --domain mydomain.com                           # run ngrok with your own custom domain\n",
            "  ngrok http 80 --allow-cidr 2600:8c00::a03c:91ee:fe69:9695/32  # run ngrok with IP policy restrictions\n",
            "  Upgrade your account at https://dashboard.ngrok.com/billing/subscription to access paid features\n",
            "\n",
            "Upgrade your account at https://dashboard.ngrok.com/billing/subscription to access paid features\n",
            "\n",
            "Flags:\n",
            "  -h, --help      help for ngrok\n",
            "\n",
            "Use \"ngrok [command] --help\" for more information about a command.\n",
            "\n",
            "ERROR:  authentication failed: Usage of ngrok requires a verified account and authtoken.\n",
            "ERROR:  \n",
            "ERROR:  Sign up for an account: https://dashboard.ngrok.com/signup\n",
            "ERROR:  Install your authtoken: https://dashboard.ngrok.com/get-started/your-authtoken\r\n",
            "ERROR:  \r\n",
            "ERROR:  ERR_NGROK_4018\r\n",
            "ERROR:  \n"
          ]
        }
      ]
    },
    {
      "cell_type": "markdown",
      "source": [
        "Time to create our Flask application. Here are your tasks:\n",
        "\n",
        "1. In your colab notebook create a new folder named `static`. In the folder create a file called `styles.css` and populate it with the following code:\n",
        "import os\n",
        "\n",
        "# Create the 'static' folder\n",
        "os.makedirs('static', exist_ok=True)\n",
        "\n",
        "# Define the CSS content\n",
        "css_content = \"\"\"\n",
        "/* styles.css */\n",
        "\n",
        "body {\n",
        "    font-family: Arial, sans-serif;\n",
        "    margin: 0;\n",
        "    padding: 0;\n",
        "}\n",
        "\n",
        ".container {\n",
        "    width: 80%;\n",
        "    margin: auto;\n",
        "}\n",
        "\n",
        ".header {\n",
        "    background-color: #333;\n",
        "    color: #fff;\n",
        "    padding: 10px 0;\n",
        "    text-align: center;\n",
        "}\n",
        "\n",
        ".content {\n",
        "    padding: 20px;\n",
        "}\n",
        "\n",
        ".footer {\n",
        "    background-color: #333;\n",
        "    color: #fff;\n",
        "    padding: 10px 0;\n",
        "    text-align: center;\n",
        "}\n",
        "\"\"\"\n",
        "\n",
        "# Write the CSS content to the styles.css file\n",
        "with open('static/styles.css', 'w') as f:\n",
        "    f.write(css_content)\n",
        "\n",
        "print(\"Folder 'static' and file 'styles.css' created successfully.\")\n",
        "\n",
        "This creates parameters for the bar chart we'll be creating. Note, the full directory of the file should be `/content/static/styles.css`.\n",
        "2. Create another folder named `templates`. Create a file called `index.html` and populate it with the following html code:\n",
        " Create the 'templates' folder\n",
        "os.makedirs('templates', exist_ok=True)\n",
        "\n",
        "# Define the HTML content for the index.html file\n",
        "html_content = \"\"\"\n",
        "<!DOCTYPE html>\n",
        "<html lang=\"en\">\n",
        "<head>\n",
        "    <meta charset=\"UTF-8\">\n",
        "    <meta name=\"viewport\" content=\"width=device-width, initial-scale=1.0\">\n",
        "    <title>Index Page</title>\n",
        "</head>\n",
        "<body>\n",
        "    <h1>Index Page</h1>\n",
        "    <p>This is the index page of your web application.</p>\n",
        "</body>\n",
        "</html>\n",
        "\"\"\"\n",
        "\n",
        "# Write the HTML content to the index.html file\n",
        "with open('templates/index.html', 'w') as f:\n",
        "    f.write(html_content)\n",
        "\n",
        "print(\"Folder 'templates' and file 'index.html' created successfully.\")\n",
        "Html is a pretty intuitive language to understand. Go through each line and make sure you understand what's happening. An extremely useful skill for an engineer is to be able to *understand* any kind of code, even if the engineer doesn't fully know how to write in the language."
      ],
      "metadata": {
        "id": "N3tXQyHOKORk"
      }
    },
    {
      "cell_type": "markdown",
      "source": [
        "1. Write a function called `generate_bar_chart` that takes a list of category names and respective values and generates a bar chart using [plt.bar](https://matplotlib.org/stable/api/_as_gen/matplotlib.pyplot.bar.html). In the function, return your barplot as a UTF-8 encoded string. It may be useful to create a BytesIO object using [io.BytesIO](https://docs.python.org/3/library/io.html#io.BytesIO) to store the barplot and then [base64.b64encode](https://docs.python.org/3/library/base64.html#base64.b64encode) to create the encoding.\n",
        "2. Now, you'll be filling in the `index` function that serves as the landing page for our application. If you're not too familiar with how HTTP works, read this quick primer [here](https://jaimelightfoot.com/blog/how-http-works/). From the form defined in `index.html`, extract the input for the `categories` field and store it in a list. Also, extract the input for the `values` field and store it in a list as well.\n",
        "3. Pass the two lists from the previous step to your function `generate_bar_chart`.\n",
        "4. The output of `generate_bar_chart` in the index function should then be passed to Flask's [render_template](https://flask.palletsprojects.com/en/2.3.x/api/#flask.render_template) and returned by the function.\n",
        "5. Execute the cell below with your code and click on the link output by \"ngrok tunnel\". This is the application landing page. See if everything works.\n",
        "6. Have fun with the application built here. See if you can extend it in some way. Make sure you understand how the python code interacts with the html template.\n",
        "\n",
        "**If you rerun the cell below and get a port issue, go ahead and restart the colab runtime environment and try again.**"
      ],
      "metadata": {
        "id": "GC7RCUTzMOVs"
      }
    },
    {
      "cell_type": "code",
      "source": [
        "from flask import Flask, render_template, request\n",
        "import threading\n",
        "import matplotlib.pyplot as plt\n",
        "import io\n",
        "import os\n",
        "import base64\n",
        "from pyngrok import ngrok\n",
        "\n",
        "os.environ[\"FLASK_DEBUG\"] = \"development\"\n",
        "\n",
        "app = Flask(__name__)\n",
        "port = 5000\n",
        "\n",
        "# Open a ngrok tunnel to the HTTP server\n",
        "ngrok_tunnel = ngrok.connect(port)\n",
        "public_url = ngrok_tunnel.public_url\n",
        "print(\" * ngrok tunnel \\\"{}\\\" -> \\\"http://127.0.0.1:{}\\\"\".format(public_url, port))\n",
        "\n",
        "\n",
        "# Update any base URLs to use the public ngrok URL\n",
        "app.config[\"BASE_URL\"] = public_url\n",
        "\n",
        "\n",
        "# Write code here for a function that takes a list of category names and respective values and generates\n",
        "# a bar chart using plt.bar. Return your bar plot as a UTF-8 encoded string.\n",
        "def generate_bar_chart(categories, values):\n",
        "    \"\"\"\n",
        "    Generates a bar chart and return it as UTF-8 encoded string.\n",
        "\n",
        "    Parameters:\n",
        "    categories (list): List of category names.\n",
        "    values (list): List of values corresponding to each category.\n",
        "\n",
        "    Returns:\n",
        "    A UTF-8 encoded representing the bar chart.\n",
        "    \"\"\"\n",
        "    # Create the bar plot\n",
        "    plt.bar(categories, values)\n",
        "\n",
        "    # Save the plot to a BytesIO object\n",
        "    img = io.BytesIO()\n",
        "    plt.savefig(img, format='png')\n",
        "    img.seek(0)\n",
        "\n",
        "    # Encode the plot as a base64 string\n",
        "    plot_base64 = base64.b64encode(img.getvalue()).decode()\n",
        "    plt.close()\n",
        "\n",
        "    return plot_base64\n",
        "\n",
        "\n",
        "@app.route('/', methods=['GET', 'POST'])\n",
        "def index():\n",
        "    if request.method == 'POST':\n",
        "        # Extract category and value inputs from the form\n",
        "        categories = request.form.get('categories')\n",
        "        values = request.form.get('values')\n",
        "\n",
        "        # Split input strings into lists (assuming comma-separated values)\n",
        "        categories_list = [category.strip() for category in categories.split(',')]\n",
        "        values_list = [int(value.strip()) for value in values.split(',')]\n",
        "\n",
        "        # Generate the bar chart string\n",
        "        bar_chart_str = generate_bar_chart(categories_list, values_list)\n",
        "\n",
        "        # Return the extracted lists and bar chart string\n",
        "        return render_template('index.html', categories=categories_list, values=values_list, bar_chart_str=bar_chart_str)\n",
        "\n",
        "    # Render the index.html template for GET requests\n",
        "    return render_template('index.html')\n",
        "\n",
        "\n",
        "if __name__ == '__main__':\n",
        "    # Start the Flask server in a new thread\n",
        "    threading.Thread(target=app.run, kwargs={\"use_reloader\": False}).start()"
      ],
      "metadata": {
        "id": "TvtkyveVy1No",
        "outputId": "741a7415-5c9b-4069-9473-5b4e7622a8de",
        "colab": {
          "base_uri": "https://localhost:8080/"
        }
      },
      "execution_count": null,
      "outputs": [
        {
          "output_type": "stream",
          "name": "stdout",
          "text": [
            " * ngrok tunnel \"https://226d-35-236-128-64.ngrok-free.app\" -> \"http://127.0.0.1:5000\"\n",
            " * Serving Flask app '__main__'\n",
            " * Debug mode: on\n"
          ]
        }
      ]
    }
  ],
  "metadata": {
    "colab": {
      "provenance": [],
      "include_colab_link": true
    },
    "kernelspec": {
      "display_name": "Python 3",
      "name": "python3"
    },
    "language_info": {
      "name": "python"
    }
  },
  "nbformat": 4,
  "nbformat_minor": 0
}